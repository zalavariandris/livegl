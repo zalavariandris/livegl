{
 "cells": [
  {
   "cell_type": "code",
   "execution_count": 1,
   "metadata": {},
   "outputs": [
    {
     "data": {
      "text/plain": [
       "mat4x4(( 1, 0, 0, 0 ), ( 0, 1, 0, 0 ), ( 0, 0, 1, 0 ), ( 0, 0, 0, 1 ))"
      ]
     },
     "execution_count": 1,
     "metadata": {},
     "output_type": "execute_result"
    }
   ],
   "source": [
    "import glm\n",
    "\n",
    "glm.mat4()"
   ]
  },
  {
   "cell_type": "code",
   "execution_count": 6,
   "metadata": {},
   "outputs": [
    {
     "data": {
      "text/plain": [
       "array([[1., 1., 1., 1.],\n",
       "       [1., 1., 1., 1.],\n",
       "       [1., 1., 1., 1.],\n",
       "       [1., 1., 1., 1.],\n",
       "       [1., 1., 1., 1.],\n",
       "       [1., 1., 1., 1.],\n",
       "       [1., 1., 1., 1.],\n",
       "       [1., 1., 1., 1.],\n",
       "       [1., 1., 1., 1.],\n",
       "       [1., 1., 1., 1.]])"
      ]
     },
     "execution_count": 6,
     "metadata": {},
     "output_type": "execute_result"
    }
   ],
   "source": [
    "import numpy as np\n",
    "colors = np.ones(shape=(10,4))\n",
    "colors[:] = (1,0,0,1)\n",
    "colors"
   ]
  },
  {
   "cell_type": "code",
   "execution_count": 46,
   "metadata": {},
   "outputs": [
    {
     "data": {
      "image/png": "[encoded data removed]",
      "text/plain": [
       "<Figure size 640x480 with 1 Axes>"
      ]
     },
     "metadata": {},
     "output_type": "display_data"
    },
    {
     "name": "stdout",
     "output_type": "stream",
     "text": [
      "float32\n"
     ]
    }
   ],
   "source": [
    "import matplotlib.pyplot as plt\n",
    "# Define the size of the checkerboard in terms of the number of squares\n",
    "\n",
    "w, h = 256, 256\n",
    "\n",
    "\n",
    "\n",
    "square = (50,50)\n",
    "colorA = (1, 0, 0,1)\n",
    "colorB = (0,1,0,1)\n",
    "\n",
    "indices = np.indices((w, h,4))\n",
    "a = np.where(( (indices[0]+w/2) // square[0] + (indices[1]+h/2) // square[1]) % 2 == 0, colorA, colorB).astype(np.float32)\n",
    "\n",
    "# # Define the resolution of the image\n",
    "# resolution = 800\n",
    "\n",
    "# # Calculate the size of each square based on the resolution\n",
    "# square_size = resolution // max(num_squares_width, num_squares_height)\n",
    "\n",
    "# # Calculate the size of the checkerboard image\n",
    "# width = num_squares_width * square_size\n",
    "# height = num_squares_height * square_size\n",
    "\n",
    "# # Create a grid of indices corresponding to the pixel positions in the checkerboard\n",
    "# indices = np.indices((height, width))\n",
    "\n",
    "# # Calculate the checkerboard pattern using the indices\n",
    "\n",
    "\n",
    "# # Reshape the checkerboard to the desired shape\n",
    "# checkerboard = checkerboard.reshape(height, width, 3)\n",
    "\n",
    "# Display the checkerboard image\n",
    "\n",
    "plt.imshow(a)\n",
    "plt.axis('off')\n",
    "plt.show()\n",
    "\n",
    "print(a.dtype)"
   ]
  },
  {
   "cell_type": "code",
   "execution_count": null,
   "metadata": {},
   "outputs": [],
   "source": [
    "def constant(w:int=256, h:int=256, color=(1,1,1,1)):\n",
    "    img = np.empty(shape=(h,w,4))\n",
    "    img[:] = color\n",
    "    return img\n",
    "\n",
    "import matplotlib.pyplot as plt\n",
    "plt.imshow(a)\n",
    "plt.axis('off')\n",
    "plt.show()"
   ]
  }
 ],
 "metadata": {
  "kernelspec": {
   "display_name": "Python 3",
   "language": "python",
   "name": "python3"
  },
  "language_info": {
   "codemirror_mode": {
    "name": "ipython",
    "version": 3
   },
   "file_extension": ".py",
   "mimetype": "text/x-python",
   "name": "python",
   "nbconvert_exporter": "python",
   "pygments_lexer": "ipython3",
   "version": "3.12.2"
  }
 },
 "nbformat": 4,
 "nbformat_minor": 2
}
